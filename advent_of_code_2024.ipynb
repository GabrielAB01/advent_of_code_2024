{
 "cells": [
  {
   "cell_type": "markdown",
   "metadata": {},
   "source": [
    "# Advent of Code 2024"
   ]
  },
  {
   "cell_type": "code",
   "execution_count": 1,
   "metadata": {},
   "outputs": [],
   "source": [
    "import numpy as np\n",
    "import re"
   ]
  },
  {
   "cell_type": "markdown",
   "metadata": {},
   "source": [
    "## Day 1: Historian Hysteria\n"
   ]
  },
  {
   "cell_type": "code",
   "execution_count": 2,
   "metadata": {},
   "outputs": [],
   "source": [
    "f1 = open(\"input_day_1.txt\", \"r\")\n",
    "dataIn = f1.readlines()\n",
    "f1.close()"
   ]
  },
  {
   "cell_type": "code",
   "execution_count": 3,
   "metadata": {},
   "outputs": [
    {
     "name": "stdout",
     "output_type": "stream",
     "text": [
      "(1000, 2)\n",
      "Total distance: 1722302\n"
     ]
    }
   ],
   "source": [
    "#---------- Part 1 ----------\n",
    "# Split the input data into a list of lists\n",
    "data = np.array([list(map(int, line.split())) for line in dataIn])\n",
    "print(data.shape) # (1000, 2)\n",
    "# Sort each column of the data\n",
    "data = np.sort(data, axis=0)\n",
    "\n",
    "# Compute the distances\n",
    "distances = np.abs(data[:, 0] - data[:, 1])\n",
    "totalDistance = distances.sum()\n",
    "print(\"Total distance:\", totalDistance)"
   ]
  },
  {
   "cell_type": "code",
   "execution_count": 4,
   "metadata": {},
   "outputs": [
    {
     "name": "stdout",
     "output_type": "stream",
     "text": [
      "Total similarity score: 20373490\n"
     ]
    }
   ],
   "source": [
    "#---------- Part 2 ----------\n",
    "# Create a dictionary to count occurrences of each number in the right list\n",
    "data = np.array([list(map(int, line.split())) for line in dataIn]) # Reset data\n",
    "occurrences = {}\n",
    "for num in data[:, 1]:\n",
    "\toccurrences[num] = occurrences.get(num, 0) + 1\n",
    "\n",
    "# Calculate the total similarity score\n",
    "similarityScore = 0\n",
    "for num in data[:, 0]:\n",
    "\tif num in occurrences:\n",
    "\t\tsimilarityScore += num * occurrences[num]\n",
    "\t\t\n",
    "print(\"Total similarity score:\", similarityScore)"
   ]
  },
  {
   "cell_type": "markdown",
   "metadata": {},
   "source": [
    "## Day 2: Red-Nosed Reports"
   ]
  },
  {
   "cell_type": "code",
   "execution_count": 5,
   "metadata": {},
   "outputs": [],
   "source": [
    "f1 = open(\"input_day_2.txt\", \"r\")\n",
    "dataIn = f1.readlines()\n",
    "f1.close()"
   ]
  },
  {
   "cell_type": "code",
   "execution_count": 6,
   "metadata": {},
   "outputs": [
    {
     "name": "stdout",
     "output_type": "stream",
     "text": [
      "Number of safe reports: 411\n"
     ]
    }
   ],
   "source": [
    "#---------- Part 1 ----------\n",
    "reports = [np.array(list(map(int, line.split()))) for line in dataIn] # Convert to list of lists\n",
    "safeReports = 0 # Count of safe reports\n",
    "\n",
    "# Function to check if a report is safe\n",
    "def isReportSafe(report):\n",
    "\tdiff = report[1:] - report[:-1] # Calculate the difference between adjacent levels\n",
    "\t# Check if strictly increasing or decreasing (and max diff of 3)\n",
    "\tif (np.all(diff >= 1) and np.all(diff <= 3)) or (np.all(diff <= -1) and np.all(diff >= -3)):\n",
    "\t\treturn True\n",
    "\treturn False\n",
    "\n",
    "# Check each report\n",
    "for report in reports:\n",
    "\tsafeReports += int(isReportSafe(report)) # Count safe reports\n",
    "print(\"Number of safe reports:\", safeReports)"
   ]
  },
  {
   "cell_type": "code",
   "execution_count": 7,
   "metadata": {},
   "outputs": [
    {
     "name": "stdout",
     "output_type": "stream",
     "text": [
      "Number of safe reports with Problem Dampener: 465\n"
     ]
    }
   ],
   "source": [
    "#---------- Part 2 ----------\n",
    "safeReports = 0 # Reset count of safe reports\n",
    "for report in reports:\n",
    "\t# Check if the report is already safe\n",
    "\tif isReportSafe(report):\n",
    "\t\tsafeReports += 1\n",
    "\t\tcontinue\n",
    "\t\n",
    "\t# Check if removing one level makes it safe\n",
    "\tfor i in range(len(report)):\n",
    "\t\tnewReport = np.delete(report, i) # Remove one level\n",
    "\t\tif isReportSafe(newReport):\n",
    "\t\t\tsafeReports += 1\n",
    "\t\t\tbreak # No need to check further, we found a safe report\n",
    "print(\"Number of safe reports with Problem Dampener:\", safeReports)"
   ]
  },
  {
   "cell_type": "markdown",
   "metadata": {},
   "source": [
    "## Day 3: Mull It Over"
   ]
  },
  {
   "cell_type": "code",
   "execution_count": 8,
   "metadata": {},
   "outputs": [],
   "source": [
    "f1 = open(\"input_day_3.txt\", \"r\")\n",
    "dataIn = f1.readlines()\n",
    "f1.close()"
   ]
  },
  {
   "cell_type": "code",
   "execution_count": 9,
   "metadata": {},
   "outputs": [
    {
     "name": "stdout",
     "output_type": "stream",
     "text": [
      "Number of valid mul operations: 742\n",
      "Total of all mul operations: 192767529\n"
     ]
    }
   ],
   "source": [
    "#---------- Part 1 ----------\n",
    "regex = r\"mul\\(\\d+,\\d+\\)\"\n",
    "\n",
    "all_valid_mul = re.findall(regex, \"\".join(dataIn)) # Find all mul operations\n",
    "print(\"Number of valid mul operations:\", len(all_valid_mul))\n",
    "\n",
    "# Compute the total of all mul operations\n",
    "total = 0\n",
    "for mul in all_valid_mul:\n",
    "\tmul = mul[4:-1] # Remove 'mul(' and ')'\n",
    "\ta, b = map(int, mul.split(\",\")) # Split into a and b\n",
    "\ttotal += a * b # Calculate the product\n",
    "print(\"Total of all mul operations:\", total)\n"
   ]
  },
  {
   "cell_type": "code",
   "execution_count": 10,
   "metadata": {},
   "outputs": [
    {
     "name": "stdout",
     "output_type": "stream",
     "text": [
      "Total of all enabled operations: 104083373\n"
     ]
    }
   ],
   "source": [
    "#---------- Part 2 ----------\n",
    "regex_2 = r\"(?:mul\\(\\d+,\\d+\\))|(?:do(?:n't)?)\" # Find all mul operations and do/don't (?: for non-capturing group)\n",
    "all_valid_op = re.findall(regex_2, \"\".join(dataIn)) # Find all valid operations\n",
    "\n",
    "total = 0\n",
    "enabled = True # Flag to enable/disable operations\n",
    "for mul in all_valid_op:\n",
    "\tif mul == \"don't\":\n",
    "\t\tenabled = False\n",
    "\telif mul == \"do\":\n",
    "\t\tenabled = True\n",
    "\telif enabled: # Add only if enabled\n",
    "\t\tmul = mul[4:-1]\n",
    "\t\ta, b = map(int, mul.split(\",\"))\n",
    "\t\ttotal += a * b\n",
    "print(\"Total of all enabled operations:\", total)\n"
   ]
  },
  {
   "cell_type": "markdown",
   "metadata": {},
   "source": [
    "## Day 4: Ceres Search"
   ]
  },
  {
   "cell_type": "code",
   "execution_count": 11,
   "metadata": {},
   "outputs": [],
   "source": [
    "f1 = open(\"input_day_4.txt\", \"r\")\n",
    "dataIn = f1.readlines()\n",
    "f1.close()"
   ]
  },
  {
   "cell_type": "code",
   "execution_count": 12,
   "metadata": {},
   "outputs": [],
   "source": [
    "#---------- Part 1 ----------\n",
    "data = np.array([line.strip() for line in dataIn]) # list of strings\n",
    "sum = 0\n",
    "n = len(data)\n",
    "assert n == len(data[0]) # Square matrix"
   ]
  },
  {
   "cell_type": "code",
   "execution_count": 13,
   "metadata": {},
   "outputs": [
    {
     "name": "stdout",
     "output_type": "stream",
     "text": [
      "['A']\n",
      "['B', 'D']\n",
      "['C', 'E', 'G']\n",
      "['F', 'H']\n",
      "['I']\n",
      "-------\n",
      "['C']\n",
      "['B', 'F']\n",
      "['A', 'E', 'I']\n",
      "['D', 'H']\n",
      "['G']\n",
      "Diagonals: ['A', 'BD', 'CEG', 'FH', 'I', 'C', 'BF', 'AEI', 'DH', 'G']\n",
      "Diagonals count: 10 - Grid size: 3\n"
     ]
    }
   ],
   "source": [
    "test_diag = [\n",
    "    \"ABC\",\n",
    "    \"DEF\",\n",
    "    \"GHI\"\n",
    "]\n",
    "def extract_diagonals(grid, printDiag=False):\n",
    "    n = len(grid)\n",
    "    diagonals = []\n",
    "\n",
    "    # Extract diagonals that go from top-right to bottom-left\n",
    "    for d in range(2 * n - 1):\n",
    "        diagonal = []\n",
    "        for i in range(max(0, d + 1 - n), min(d + 1, n)):\n",
    "            j = d - i\n",
    "            diagonal.append(grid[i][j])\n",
    "        diagonals.append(\"\".join(diagonal))\n",
    "\n",
    "        if printDiag: print(diagonal)\n",
    "\n",
    "    if printDiag: print(\"-------\")\n",
    "    \n",
    "    # Extract diagonals that go from top-left to bottom-right\n",
    "    for d in range(2 * n - 1):\n",
    "        diagonal = []\n",
    "        for i in range(max(0, d + 1 - n), min(d + 1, n)):\n",
    "            j = n - 1 - (d - i)\n",
    "            diagonal.append(grid[i][j])\n",
    "        diagonals.append(\"\".join(diagonal))\n",
    "\n",
    "        if printDiag: print(diagonal)\n",
    "\n",
    "    return diagonals\n",
    "\n",
    "# Diagonal\n",
    "diagonals = extract_diagonals(test_diag, True)\n",
    "print(\"Diagonals:\", diagonals)\n",
    "print(\"Diagonals count:\", len(diagonals), \"- Grid size:\", len(test_diag))\n",
    "\n",
    "def countXmasInGrid(grid):\n",
    "    # Count occurrences of \"XMAS\" in a row (and reversed)\n",
    "    def countXmasRow(row):\n",
    "        return row.count(\"XMAS\") + row[::-1].count(\"XMAS\")\n",
    "    count = 0\n",
    "\n",
    "    # Rows\n",
    "    for row in grid:\n",
    "        count += countXmasRow(row)\n",
    "        \n",
    "    # Columns\n",
    "    for col in range(len(grid)):\n",
    "        col_str = \"\".join(row[col] for row in grid)\n",
    "        count += countXmasRow(col_str)\n",
    "    \n",
    "    # Diagonals\n",
    "    diagonals = extract_diagonals(grid)\n",
    "    for diag in diagonals:\n",
    "        count += countXmasRow(diag)\n",
    "    return count"
   ]
  },
  {
   "cell_type": "code",
   "execution_count": 14,
   "metadata": {},
   "outputs": [
    {
     "name": "stdout",
     "output_type": "stream",
     "text": [
      "Test Total XMAS found: 18\n",
      "Total XMAS found: 2654\n"
     ]
    }
   ],
   "source": [
    "test = [\n",
    "\t\"MMMSXXMASM\",\n",
    "\t\"MSAMXMSMSA\",\n",
    "\t\"AMXSXMAAMM\",\n",
    "\t\"MSAMASMSMX\",\n",
    "\t\"XMASAMXAMM\",\n",
    "\t\"XXAMMXXAMA\",\n",
    "\t\"SMSMSASXSS\",\n",
    "\t\"SAXAMASAAA\",\n",
    "\t\"MAMMMXMMMM\",\n",
    "\t\"MXMXAXMASX\"\n",
    "]\n",
    "\n",
    "print(\"Test Total XMAS found:\", countXmasInGrid(test))\n",
    "\n",
    "print(\"Total XMAS found:\", countXmasInGrid(data))\n"
   ]
  },
  {
   "cell_type": "code",
   "execution_count": 15,
   "metadata": {},
   "outputs": [
    {
     "name": "stdout",
     "output_type": "stream",
     "text": [
      "Test Total X-MAS found: 9\n",
      "Total X-MAS found: 1990\n"
     ]
    }
   ],
   "source": [
    "# The X-MAS pattern\n",
    "xmas_pattern = [\n",
    "\t\"M.S\",\n",
    "\t\".A.\",\n",
    "\t\"M.S\"\n",
    "]\n",
    "def countXmasInGridXmas(grid):\n",
    "\tcount = 0\n",
    "\tn = len(grid)\n",
    "\n",
    "\t# We just have to look around \"A\" in the grid\n",
    "\tfor i in range(1, n-1): # Ignore the first and last row\n",
    "\t\tfor j in range(1, n-1): # Ignore the first and last column\n",
    "\t\t\tif grid[i][j] == \"A\":\n",
    "\t\t\t\taboveRow = grid[i-1][j-1] + grid[i-1][j+1] # Two letters above the A\n",
    "\t\t\t\tbelowRow = grid[i+1][j-1] + grid[i+1][j+1]\n",
    "\t\t\t\taboveAndBelow = aboveRow + \"/\" + belowRow\n",
    "\n",
    "\t\t\t\t# print(\"Above and below rows:\", aboveAndBelow)\n",
    "\n",
    "\t\t\t\t# Check if the letters match one of the patterns\n",
    "\t\t\t\tif aboveAndBelow in [\"MS/MS\", \"SM/SM\", \"MM/SS\", \"SS/MM\"] :\n",
    "\t\t\t\t\tcount += 1\n",
    "\treturn count\n",
    "\n",
    "test_x_mas = [\n",
    "\t\".M.S......\",\n",
    "\t\"..A..MSMS.\",\n",
    "\t\".M.S.MAA..\",\n",
    "\t\"..A.ASMSM.\",\n",
    "\t\".M.S.M....\",\n",
    "\t\"..........\",\n",
    "\t\"S.S.S.S.S.\",\n",
    "\t\".A.A.A.A..\",\n",
    "\t\"M.M.M.M.M.\",\n",
    "\t\"..........\"\n",
    "]\n",
    "print(\"Test Total X-MAS found:\", countXmasInGridXmas(test_x_mas))\n",
    "print(\"Total X-MAS found:\", countXmasInGridXmas(data))"
   ]
  },
  {
   "cell_type": "code",
   "execution_count": null,
   "metadata": {},
   "outputs": [],
   "source": []
  }
 ],
 "metadata": {
  "kernelspec": {
   "display_name": ".venv",
   "language": "python",
   "name": "python3"
  },
  "language_info": {
   "codemirror_mode": {
    "name": "ipython",
    "version": 3
   },
   "file_extension": ".py",
   "mimetype": "text/x-python",
   "name": "python",
   "nbconvert_exporter": "python",
   "pygments_lexer": "ipython3",
   "version": "3.10.1"
  }
 },
 "nbformat": 4,
 "nbformat_minor": 2
}
